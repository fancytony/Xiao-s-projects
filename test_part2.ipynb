{
 "cells": [
  {
   "cell_type": "markdown",
   "metadata": {},
   "source": [
    "# DSI Instructor Task: Part 2\n",
    "\n",
    "**In your notebook, move onto \"Part 2\" and log your responses accordingly. Please provide feedback for both of the sample student submissions provided below. Use the following guidelines to help structure your responses:**\n",
    "\n",
    "**Code**\n",
    "\n",
    "Feel free to comment on style, library usage, or other improvements.\n",
    "\n",
    "**Methodology**\n",
    "\n",
    "Feel free to comment on the student's data setup, modeling methodology, and model evaluation.\n",
    "Conceptual Understanding\n",
    "\n",
    "Finally, feel free to add any suggestions or takeaways on how the student could continue to improve their understanding of these concepts."
   ]
  },
  {
   "cell_type": "markdown",
   "metadata": {
    "deletable": true,
    "editable": true
   },
   "source": [
    "# student sample solution 1"
   ]
  },
  {
   "cell_type": "code",
   "execution_count": 124,
   "metadata": {
    "collapsed": false
   },
   "outputs": [
    {
     "ename": "ImportError",
     "evalue": "cannot import name LinearRegression",
     "output_type": "error",
     "traceback": [
      "\u001b[0;31m---------------------------------------------------------------------------\u001b[0m",
      "\u001b[0;31mImportError\u001b[0m                               Traceback (most recent call last)",
      "\u001b[0;32m<ipython-input-124-e71d0fcf800c>\u001b[0m in \u001b[0;36m<module>\u001b[0;34m()\u001b[0m\n\u001b[1;32m      1\u001b[0m \u001b[0;32mimport\u001b[0m \u001b[0mpandas\u001b[0m \u001b[0;32mas\u001b[0m \u001b[0mpd\u001b[0m\u001b[0;34m\u001b[0m\u001b[0m\n\u001b[1;32m      2\u001b[0m \u001b[0;32mimport\u001b[0m \u001b[0mnumpy\u001b[0m \u001b[0;32mas\u001b[0m \u001b[0mnp\u001b[0m\u001b[0;34m\u001b[0m\u001b[0m\n\u001b[0;32m----> 3\u001b[0;31m \u001b[0;32mfrom\u001b[0m \u001b[0msklearn\u001b[0m \u001b[0;32mimport\u001b[0m \u001b[0mLinearRegression\u001b[0m                  \u001b[0;31m#===linearRegression is located within library linear_model\u001b[0m\u001b[0;34m\u001b[0m\u001b[0m\n\u001b[0m\u001b[1;32m      4\u001b[0m \u001b[0;32mfrom\u001b[0m \u001b[0msklearn\u001b[0m\u001b[0;34m.\u001b[0m\u001b[0mcross_validation\u001b[0m \u001b[0;32mimport\u001b[0m \u001b[0mcross_val_score\u001b[0m\u001b[0;34m\u001b[0m\u001b[0m\n\u001b[1;32m      5\u001b[0m \u001b[0;34m\u001b[0m\u001b[0m\n",
      "\u001b[0;31mImportError\u001b[0m: cannot import name LinearRegression"
     ]
    }
   ],
   "source": [
    "import pandas as pd\n",
    "import numpy as np\n",
    "from sklearn import LinearRegression                  #===linearRegression is located within library linear_model \n",
    "from sklearn.cross_validation import cross_val_score\n",
    "\n",
    "from sklearn.linear_model import LinearRegression\n",
    "\n",
    "\n",
    "# Load data\n",
    "d = pd.read_csv('/Users/xiaoyin/Downloads/GAdata.csv')   #=== inconsistent naming: d=data?\n",
    "\n",
    "\n",
    "# Setup data for prediction\n",
    "x1 = data.SalaryNormalized                              #=== see comments above; data and d? which one is your dataset\n",
    "x2 = pd.get_dummies(data.ContractType)\n",
    "\n",
    "# Setup model\n",
    "model = LinearRegression()                              #===see first comment. Need first import linear_model\n",
    "\n",
    "# Evaluate model\n",
    "from sklearn.cross_validation import cross_val_score    #===this is fine, but convention is to import all packages at the beginning\n",
    "from sklearn.cross_validation import train_test_split\n",
    "scores = cross_val_score(model, x2, x1, cv=1, scoring='mean_absolute_error') \n",
    "print(scores.mean())\n",
    "\n"
   ]
  },
  {
   "cell_type": "markdown",
   "metadata": {
    "deletable": true,
    "editable": true
   },
   "source": [
    "## Code\n",
    "\n",
    "Code style, library usage, and possible bugs are commented within above python code, indicated by \"#===\"\n",
    "\n"
   ]
  },
  {
   "cell_type": "markdown",
   "metadata": {
    "deletable": true,
    "editable": true
   },
   "source": [
    "## Methodology\n",
    "\n",
    "**data setup, modeling methodology, and model evaluation.\n",
    "Conceptual Understanding**\n",
    "\n",
    "This code is seriously flawed in the step of model building. This is due to the lack of enough understanding of the dataset and the goal of this study, and more specificly due to the missing of two important steps in data science--data cleaning and explorational analysis. Below I will elaborate on this.\n",
    "\n",
    "A lot of times, we have to first clean the dataset for us to use. For example, we can see immediately that there are a lot missing values for the ContractType column. How do we deal with that? I will show shortly how to deal with this case below.\n",
    "\n",
    "After we clean data, it is almost always necessary to do a brief explorational analysis, instead of jumping right onto model building process. The explorational analysis can give us a rough idea on what the data you are trying to modeling look like. And the insight one obtains from this process, has a direct impact on the quality of model one builds. For our specific case, we are trying to identify the relation between salary and job contract type. How about we first plot them and see what the relationship roughly looks like?\n",
    "\n",
    "I will go over the detailed process below. \n",
    "\n",
    "\n"
   ]
  },
  {
   "cell_type": "markdown",
   "metadata": {
    "deletable": true,
    "editable": true
   },
   "source": [
    "** First, we need first load the data, use \"data=...\"(instead of \"d\")**\n",
    "\n",
    "\n"
   ]
  },
  {
   "cell_type": "code",
   "execution_count": 130,
   "metadata": {
    "collapsed": false,
    "scrolled": true
   },
   "outputs": [
    {
     "data": {
      "text/html": [
       "<div>\n",
       "<table border=\"1\" class=\"dataframe\">\n",
       "  <thead>\n",
       "    <tr style=\"text-align: right;\">\n",
       "      <th></th>\n",
       "      <th>Id</th>\n",
       "      <th>Title</th>\n",
       "      <th>FullDescription</th>\n",
       "      <th>LocationRaw</th>\n",
       "      <th>LocationNormalized</th>\n",
       "      <th>ContractType</th>\n",
       "      <th>ContractTime</th>\n",
       "      <th>Company</th>\n",
       "      <th>Category</th>\n",
       "      <th>SalaryRaw</th>\n",
       "      <th>SalaryNormalized</th>\n",
       "      <th>SourceName</th>\n",
       "    </tr>\n",
       "  </thead>\n",
       "  <tbody>\n",
       "    <tr>\n",
       "      <th>0</th>\n",
       "      <td>12612628</td>\n",
       "      <td>Engineering Systems Analyst</td>\n",
       "      <td>Engineering Systems Analyst Dorking Surrey Sal...</td>\n",
       "      <td>Dorking, Surrey, Surrey</td>\n",
       "      <td>Dorking</td>\n",
       "      <td>NaN</td>\n",
       "      <td>permanent</td>\n",
       "      <td>Gregory Martin International</td>\n",
       "      <td>Engineering Jobs</td>\n",
       "      <td>20000 - 30000/annum 20-30K</td>\n",
       "      <td>25000</td>\n",
       "      <td>cv-library.co.uk</td>\n",
       "    </tr>\n",
       "    <tr>\n",
       "      <th>1</th>\n",
       "      <td>12612830</td>\n",
       "      <td>Stress Engineer Glasgow</td>\n",
       "      <td>Stress Engineer Glasgow Salary **** to **** We...</td>\n",
       "      <td>Glasgow, Scotland, Scotland</td>\n",
       "      <td>Glasgow</td>\n",
       "      <td>NaN</td>\n",
       "      <td>permanent</td>\n",
       "      <td>Gregory Martin International</td>\n",
       "      <td>Engineering Jobs</td>\n",
       "      <td>25000 - 35000/annum 25-35K</td>\n",
       "      <td>30000</td>\n",
       "      <td>cv-library.co.uk</td>\n",
       "    </tr>\n",
       "    <tr>\n",
       "      <th>2</th>\n",
       "      <td>12612844</td>\n",
       "      <td>Modelling and simulation analyst</td>\n",
       "      <td>Mathematical Modeller / Simulation Analyst / O...</td>\n",
       "      <td>Hampshire, South East, South East</td>\n",
       "      <td>Hampshire</td>\n",
       "      <td>NaN</td>\n",
       "      <td>permanent</td>\n",
       "      <td>Gregory Martin International</td>\n",
       "      <td>Engineering Jobs</td>\n",
       "      <td>20000 - 40000/annum 20-40K</td>\n",
       "      <td>30000</td>\n",
       "      <td>cv-library.co.uk</td>\n",
       "    </tr>\n",
       "    <tr>\n",
       "      <th>3</th>\n",
       "      <td>12613049</td>\n",
       "      <td>Engineering Systems Analyst / Mathematical Mod...</td>\n",
       "      <td>Engineering Systems Analyst / Mathematical Mod...</td>\n",
       "      <td>Surrey, South East, South East</td>\n",
       "      <td>Surrey</td>\n",
       "      <td>NaN</td>\n",
       "      <td>permanent</td>\n",
       "      <td>Gregory Martin International</td>\n",
       "      <td>Engineering Jobs</td>\n",
       "      <td>25000 - 30000/annum 25K-30K negotiable</td>\n",
       "      <td>27500</td>\n",
       "      <td>cv-library.co.uk</td>\n",
       "    </tr>\n",
       "    <tr>\n",
       "      <th>4</th>\n",
       "      <td>12613647</td>\n",
       "      <td>Pioneer, Miser Engineering Systems Analyst</td>\n",
       "      <td>Pioneer, Miser  Engineering Systems Analyst Do...</td>\n",
       "      <td>Surrey, South East, South East</td>\n",
       "      <td>Surrey</td>\n",
       "      <td>NaN</td>\n",
       "      <td>permanent</td>\n",
       "      <td>Gregory Martin International</td>\n",
       "      <td>Engineering Jobs</td>\n",
       "      <td>20000 - 30000/annum 20-30K</td>\n",
       "      <td>25000</td>\n",
       "      <td>cv-library.co.uk</td>\n",
       "    </tr>\n",
       "  </tbody>\n",
       "</table>\n",
       "</div>"
      ],
      "text/plain": [
       "         Id                                              Title  \\\n",
       "0  12612628                        Engineering Systems Analyst   \n",
       "1  12612830                            Stress Engineer Glasgow   \n",
       "2  12612844                   Modelling and simulation analyst   \n",
       "3  12613049  Engineering Systems Analyst / Mathematical Mod...   \n",
       "4  12613647         Pioneer, Miser Engineering Systems Analyst   \n",
       "\n",
       "                                     FullDescription  \\\n",
       "0  Engineering Systems Analyst Dorking Surrey Sal...   \n",
       "1  Stress Engineer Glasgow Salary **** to **** We...   \n",
       "2  Mathematical Modeller / Simulation Analyst / O...   \n",
       "3  Engineering Systems Analyst / Mathematical Mod...   \n",
       "4  Pioneer, Miser  Engineering Systems Analyst Do...   \n",
       "\n",
       "                         LocationRaw LocationNormalized ContractType  \\\n",
       "0            Dorking, Surrey, Surrey            Dorking          NaN   \n",
       "1        Glasgow, Scotland, Scotland            Glasgow          NaN   \n",
       "2  Hampshire, South East, South East          Hampshire          NaN   \n",
       "3     Surrey, South East, South East             Surrey          NaN   \n",
       "4     Surrey, South East, South East             Surrey          NaN   \n",
       "\n",
       "  ContractTime                       Company          Category  \\\n",
       "0    permanent  Gregory Martin International  Engineering Jobs   \n",
       "1    permanent  Gregory Martin International  Engineering Jobs   \n",
       "2    permanent  Gregory Martin International  Engineering Jobs   \n",
       "3    permanent  Gregory Martin International  Engineering Jobs   \n",
       "4    permanent  Gregory Martin International  Engineering Jobs   \n",
       "\n",
       "                                SalaryRaw  SalaryNormalized        SourceName  \n",
       "0              20000 - 30000/annum 20-30K             25000  cv-library.co.uk  \n",
       "1              25000 - 35000/annum 25-35K             30000  cv-library.co.uk  \n",
       "2              20000 - 40000/annum 20-40K             30000  cv-library.co.uk  \n",
       "3  25000 - 30000/annum 25K-30K negotiable             27500  cv-library.co.uk  \n",
       "4              20000 - 30000/annum 20-30K             25000  cv-library.co.uk  "
      ]
     },
     "execution_count": 130,
     "metadata": {},
     "output_type": "execute_result"
    }
   ],
   "source": [
    "data = pd.read_csv('/Users/xiaoyin/Downloads/GAdata.csv')   #d=data?\n",
    "data.head()"
   ]
  },
  {
   "cell_type": "markdown",
   "metadata": {
    "deletable": true,
    "editable": true
   },
   "source": [
    "** We see there are quite some missing values (NaN). Lets us check how many are there and whats the fraction**\n",
    "\n"
   ]
  },
  {
   "cell_type": "code",
   "execution_count": 131,
   "metadata": {
    "collapsed": false,
    "scrolled": true
   },
   "outputs": [
    {
     "data": {
      "text/plain": [
       "Id                       0\n",
       "Title                    1\n",
       "FullDescription          0\n",
       "LocationRaw              0\n",
       "LocationNormalized       0\n",
       "ContractType          6444\n",
       "ContractTime          5263\n",
       "Company               4049\n",
       "Category                 0\n",
       "SalaryRaw                0\n",
       "SalaryNormalized         0\n",
       "SourceName               0\n",
       "dtype: int64"
      ]
     },
     "execution_count": 131,
     "metadata": {},
     "output_type": "execute_result"
    }
   ],
   "source": [
    "data.isnull().sum()\n"
   ]
  },
  {
   "cell_type": "code",
   "execution_count": 132,
   "metadata": {
    "collapsed": false,
    "deletable": true,
    "editable": true,
    "scrolled": true
   },
   "outputs": [
    {
     "data": {
      "text/plain": [
       "(10000, 12)"
      ]
     },
     "execution_count": 132,
     "metadata": {},
     "output_type": "execute_result"
    }
   ],
   "source": [
    "data.shape"
   ]
  },
  {
   "cell_type": "markdown",
   "metadata": {
    "deletable": true,
    "editable": true
   },
   "source": [
    "** We see there are about 64% data on ContractType are missing! Since this is a feature we care a lot in our later model section, we need carefully handle this. One simple approach is just ignore these NaN records. This can be done as follows:**\n",
    "\n"
   ]
  },
  {
   "cell_type": "code",
   "execution_count": 133,
   "metadata": {
    "collapsed": false,
    "scrolled": true
   },
   "outputs": [
    {
     "data": {
      "text/html": [
       "<div>\n",
       "<table border=\"1\" class=\"dataframe\">\n",
       "  <thead>\n",
       "    <tr style=\"text-align: right;\">\n",
       "      <th></th>\n",
       "      <th>Id</th>\n",
       "      <th>Title</th>\n",
       "      <th>FullDescription</th>\n",
       "      <th>LocationRaw</th>\n",
       "      <th>LocationNormalized</th>\n",
       "      <th>ContractType</th>\n",
       "      <th>ContractTime</th>\n",
       "      <th>Company</th>\n",
       "      <th>Category</th>\n",
       "      <th>SalaryRaw</th>\n",
       "      <th>SalaryNormalized</th>\n",
       "      <th>SourceName</th>\n",
       "    </tr>\n",
       "  </thead>\n",
       "  <tbody>\n",
       "    <tr>\n",
       "      <th>65</th>\n",
       "      <td>31794403</td>\n",
       "      <td>Senior **** IT Recruitment Consulltant</td>\n",
       "      <td>Inspire is a leading IT services company speci...</td>\n",
       "      <td>Lingfield, Surrey ,</td>\n",
       "      <td>Lingfield</td>\n",
       "      <td>full_time</td>\n",
       "      <td>NaN</td>\n",
       "      <td>Inspire Corporation</td>\n",
       "      <td>Other/General Jobs</td>\n",
       "      <td>20 - 25k Basic,  70 - 75K OTE+++</td>\n",
       "      <td>22500</td>\n",
       "      <td>zartis.com</td>\n",
       "    </tr>\n",
       "    <tr>\n",
       "      <th>154</th>\n",
       "      <td>44156175</td>\n",
       "      <td>Business Development/ Account Management/ IT s...</td>\n",
       "      <td>We are searching for a New Business Account Ma...</td>\n",
       "      <td>Burton On Trent ,</td>\n",
       "      <td>Burton-On-Trent</td>\n",
       "      <td>full_time</td>\n",
       "      <td>NaN</td>\n",
       "      <td>Blues Point Ltd</td>\n",
       "      <td>Other/General Jobs</td>\n",
       "      <td>21,000 + Uncapped Commission + Pool Cars</td>\n",
       "      <td>21000</td>\n",
       "      <td>zartis.com</td>\n",
       "    </tr>\n",
       "    <tr>\n",
       "      <th>177</th>\n",
       "      <td>46206762</td>\n",
       "      <td>Business Development Manager UK</td>\n",
       "      <td>Purpose of the Job: Reporting to the Sales Dir...</td>\n",
       "      <td>South East England ,</td>\n",
       "      <td>South East England</td>\n",
       "      <td>full_time</td>\n",
       "      <td>NaN</td>\n",
       "      <td>SourceDogg</td>\n",
       "      <td>Other/General Jobs</td>\n",
       "      <td>40,000 - 50,000 plus package</td>\n",
       "      <td>45000</td>\n",
       "      <td>zartis.com</td>\n",
       "    </tr>\n",
       "    <tr>\n",
       "      <th>178</th>\n",
       "      <td>46206763</td>\n",
       "      <td>National Key Account Manager UK</td>\n",
       "      <td>Purpose of the Job: As a Key Account Manager y...</td>\n",
       "      <td>South East England ,</td>\n",
       "      <td>South East England</td>\n",
       "      <td>full_time</td>\n",
       "      <td>NaN</td>\n",
       "      <td>SourceDogg</td>\n",
       "      <td>Other/General Jobs</td>\n",
       "      <td>40,000 - 50,000 plus package</td>\n",
       "      <td>45000</td>\n",
       "      <td>zartis.com</td>\n",
       "    </tr>\n",
       "    <tr>\n",
       "      <th>182</th>\n",
       "      <td>46626508</td>\n",
       "      <td>Support Worker Job Chepstow</td>\n",
       "      <td>Support Worker Job Chepstow We are a leading p...</td>\n",
       "      <td>Chepstow, Gwent</td>\n",
       "      <td>UK</td>\n",
       "      <td>full_time</td>\n",
       "      <td>NaN</td>\n",
       "      <td>NaN</td>\n",
       "      <td>Healthcare &amp; Nursing Jobs</td>\n",
       "      <td>6.43 per hour</td>\n",
       "      <td>12345</td>\n",
       "      <td>careworx.co.uk</td>\n",
       "    </tr>\n",
       "  </tbody>\n",
       "</table>\n",
       "</div>"
      ],
      "text/plain": [
       "           Id                                              Title  \\\n",
       "65   31794403             Senior **** IT Recruitment Consulltant   \n",
       "154  44156175  Business Development/ Account Management/ IT s...   \n",
       "177  46206762                    Business Development Manager UK   \n",
       "178  46206763                    National Key Account Manager UK   \n",
       "182  46626508                        Support Worker Job Chepstow   \n",
       "\n",
       "                                       FullDescription           LocationRaw  \\\n",
       "65   Inspire is a leading IT services company speci...   Lingfield, Surrey ,   \n",
       "154  We are searching for a New Business Account Ma...     Burton On Trent ,   \n",
       "177  Purpose of the Job: Reporting to the Sales Dir...  South East England ,   \n",
       "178  Purpose of the Job: As a Key Account Manager y...  South East England ,   \n",
       "182  Support Worker Job Chepstow We are a leading p...       Chepstow, Gwent   \n",
       "\n",
       "     LocationNormalized ContractType ContractTime              Company  \\\n",
       "65            Lingfield    full_time          NaN  Inspire Corporation   \n",
       "154     Burton-On-Trent    full_time          NaN      Blues Point Ltd   \n",
       "177  South East England    full_time          NaN           SourceDogg   \n",
       "178  South East England    full_time          NaN           SourceDogg   \n",
       "182                  UK    full_time          NaN                  NaN   \n",
       "\n",
       "                      Category                                 SalaryRaw  \\\n",
       "65          Other/General Jobs          20 - 25k Basic,  70 - 75K OTE+++   \n",
       "154         Other/General Jobs  21,000 + Uncapped Commission + Pool Cars   \n",
       "177         Other/General Jobs              40,000 - 50,000 plus package   \n",
       "178         Other/General Jobs              40,000 - 50,000 plus package   \n",
       "182  Healthcare & Nursing Jobs                             6.43 per hour   \n",
       "\n",
       "     SalaryNormalized      SourceName  \n",
       "65              22500      zartis.com  \n",
       "154             21000      zartis.com  \n",
       "177             45000      zartis.com  \n",
       "178             45000      zartis.com  \n",
       "182             12345  careworx.co.uk  "
      ]
     },
     "execution_count": 133,
     "metadata": {},
     "output_type": "execute_result"
    }
   ],
   "source": [
    "data=data.dropna(subset=['ContractType'])\n",
    "data.head()"
   ]
  },
  {
   "cell_type": "markdown",
   "metadata": {
    "deletable": true,
    "editable": true
   },
   "source": [
    "** Clearly, we have kept only the records whose ContractType is not NaN, and the size of dataset becomes 3556*12**\n",
    "\n"
   ]
  },
  {
   "cell_type": "code",
   "execution_count": 134,
   "metadata": {
    "collapsed": false
   },
   "outputs": [
    {
     "data": {
      "text/plain": [
       "(3556, 12)"
      ]
     },
     "execution_count": 134,
     "metadata": {},
     "output_type": "execute_result"
    }
   ],
   "source": [
    "data.shape"
   ]
  },
  {
   "cell_type": "markdown",
   "metadata": {
    "deletable": true,
    "editable": true
   },
   "source": [
    "** One more thing we need pay attention to is: ContractType is a categorial variable. It can most conveniently dealt with by encoding it being a binary variable (0,1) **\n",
    "\n"
   ]
  },
  {
   "cell_type": "code",
   "execution_count": 135,
   "metadata": {
    "collapsed": false,
    "scrolled": true
   },
   "outputs": [
    {
     "data": {
      "text/html": [
       "<div>\n",
       "<table border=\"1\" class=\"dataframe\">\n",
       "  <thead>\n",
       "    <tr style=\"text-align: right;\">\n",
       "      <th></th>\n",
       "      <th>Id</th>\n",
       "      <th>Title</th>\n",
       "      <th>FullDescription</th>\n",
       "      <th>LocationRaw</th>\n",
       "      <th>LocationNormalized</th>\n",
       "      <th>ContractType</th>\n",
       "      <th>ContractTime</th>\n",
       "      <th>Company</th>\n",
       "      <th>Category</th>\n",
       "      <th>SalaryRaw</th>\n",
       "      <th>SalaryNormalized</th>\n",
       "      <th>SourceName</th>\n",
       "    </tr>\n",
       "  </thead>\n",
       "  <tbody>\n",
       "    <tr>\n",
       "      <th>65</th>\n",
       "      <td>31794403</td>\n",
       "      <td>Senior **** IT Recruitment Consulltant</td>\n",
       "      <td>Inspire is a leading IT services company speci...</td>\n",
       "      <td>Lingfield, Surrey ,</td>\n",
       "      <td>Lingfield</td>\n",
       "      <td>0</td>\n",
       "      <td>NaN</td>\n",
       "      <td>Inspire Corporation</td>\n",
       "      <td>Other/General Jobs</td>\n",
       "      <td>20 - 25k Basic,  70 - 75K OTE+++</td>\n",
       "      <td>22500</td>\n",
       "      <td>zartis.com</td>\n",
       "    </tr>\n",
       "    <tr>\n",
       "      <th>154</th>\n",
       "      <td>44156175</td>\n",
       "      <td>Business Development/ Account Management/ IT s...</td>\n",
       "      <td>We are searching for a New Business Account Ma...</td>\n",
       "      <td>Burton On Trent ,</td>\n",
       "      <td>Burton-On-Trent</td>\n",
       "      <td>0</td>\n",
       "      <td>NaN</td>\n",
       "      <td>Blues Point Ltd</td>\n",
       "      <td>Other/General Jobs</td>\n",
       "      <td>21,000 + Uncapped Commission + Pool Cars</td>\n",
       "      <td>21000</td>\n",
       "      <td>zartis.com</td>\n",
       "    </tr>\n",
       "    <tr>\n",
       "      <th>177</th>\n",
       "      <td>46206762</td>\n",
       "      <td>Business Development Manager UK</td>\n",
       "      <td>Purpose of the Job: Reporting to the Sales Dir...</td>\n",
       "      <td>South East England ,</td>\n",
       "      <td>South East England</td>\n",
       "      <td>0</td>\n",
       "      <td>NaN</td>\n",
       "      <td>SourceDogg</td>\n",
       "      <td>Other/General Jobs</td>\n",
       "      <td>40,000 - 50,000 plus package</td>\n",
       "      <td>45000</td>\n",
       "      <td>zartis.com</td>\n",
       "    </tr>\n",
       "    <tr>\n",
       "      <th>178</th>\n",
       "      <td>46206763</td>\n",
       "      <td>National Key Account Manager UK</td>\n",
       "      <td>Purpose of the Job: As a Key Account Manager y...</td>\n",
       "      <td>South East England ,</td>\n",
       "      <td>South East England</td>\n",
       "      <td>0</td>\n",
       "      <td>NaN</td>\n",
       "      <td>SourceDogg</td>\n",
       "      <td>Other/General Jobs</td>\n",
       "      <td>40,000 - 50,000 plus package</td>\n",
       "      <td>45000</td>\n",
       "      <td>zartis.com</td>\n",
       "    </tr>\n",
       "    <tr>\n",
       "      <th>182</th>\n",
       "      <td>46626508</td>\n",
       "      <td>Support Worker Job Chepstow</td>\n",
       "      <td>Support Worker Job Chepstow We are a leading p...</td>\n",
       "      <td>Chepstow, Gwent</td>\n",
       "      <td>UK</td>\n",
       "      <td>0</td>\n",
       "      <td>NaN</td>\n",
       "      <td>NaN</td>\n",
       "      <td>Healthcare &amp; Nursing Jobs</td>\n",
       "      <td>6.43 per hour</td>\n",
       "      <td>12345</td>\n",
       "      <td>careworx.co.uk</td>\n",
       "    </tr>\n",
       "  </tbody>\n",
       "</table>\n",
       "</div>"
      ],
      "text/plain": [
       "           Id                                              Title  \\\n",
       "65   31794403             Senior **** IT Recruitment Consulltant   \n",
       "154  44156175  Business Development/ Account Management/ IT s...   \n",
       "177  46206762                    Business Development Manager UK   \n",
       "178  46206763                    National Key Account Manager UK   \n",
       "182  46626508                        Support Worker Job Chepstow   \n",
       "\n",
       "                                       FullDescription           LocationRaw  \\\n",
       "65   Inspire is a leading IT services company speci...   Lingfield, Surrey ,   \n",
       "154  We are searching for a New Business Account Ma...     Burton On Trent ,   \n",
       "177  Purpose of the Job: Reporting to the Sales Dir...  South East England ,   \n",
       "178  Purpose of the Job: As a Key Account Manager y...  South East England ,   \n",
       "182  Support Worker Job Chepstow We are a leading p...       Chepstow, Gwent   \n",
       "\n",
       "     LocationNormalized  ContractType ContractTime              Company  \\\n",
       "65            Lingfield             0          NaN  Inspire Corporation   \n",
       "154     Burton-On-Trent             0          NaN      Blues Point Ltd   \n",
       "177  South East England             0          NaN           SourceDogg   \n",
       "178  South East England             0          NaN           SourceDogg   \n",
       "182                  UK             0          NaN                  NaN   \n",
       "\n",
       "                      Category                                 SalaryRaw  \\\n",
       "65          Other/General Jobs          20 - 25k Basic,  70 - 75K OTE+++   \n",
       "154         Other/General Jobs  21,000 + Uncapped Commission + Pool Cars   \n",
       "177         Other/General Jobs              40,000 - 50,000 plus package   \n",
       "178         Other/General Jobs              40,000 - 50,000 plus package   \n",
       "182  Healthcare & Nursing Jobs                             6.43 per hour   \n",
       "\n",
       "     SalaryNormalized      SourceName  \n",
       "65              22500      zartis.com  \n",
       "154             21000      zartis.com  \n",
       "177             45000      zartis.com  \n",
       "178             45000      zartis.com  \n",
       "182             12345  careworx.co.uk  "
      ]
     },
     "execution_count": 135,
     "metadata": {},
     "output_type": "execute_result"
    }
   ],
   "source": [
    "\n",
    "from sklearn import preprocessing\n",
    "from sklearn.preprocessing import LabelEncoder\n",
    "labelencoder=LabelEncoder()\n",
    "data['ContractType'] = labelencoder.fit_transform(data['ContractType'])\n",
    "data.head()"
   ]
  },
  {
   "cell_type": "markdown",
   "metadata": {
    "deletable": true,
    "editable": true
   },
   "source": [
    "** And we see, the full_time is encoded as 0, and part_time as 1 **\n",
    "\n"
   ]
  },
  {
   "cell_type": "markdown",
   "metadata": {
    "deletable": true,
    "editable": true
   },
   "source": [
    "## Explorational analysis\n"
   ]
  },
  {
   "cell_type": "code",
   "execution_count": 136,
   "metadata": {
    "collapsed": false
   },
   "outputs": [
    {
     "data": {
      "text/plain": [
       "(3556, 12)"
      ]
     },
     "execution_count": 136,
     "metadata": {},
     "output_type": "execute_result"
    }
   ],
   "source": [
    "X = data.SalaryNormalized\n",
    "y = data.ContractType\n",
    "x1.shape\n",
    "data.shape"
   ]
  },
  {
   "cell_type": "code",
   "execution_count": 137,
   "metadata": {
    "collapsed": false,
    "deletable": true,
    "editable": true,
    "scrolled": true
   },
   "outputs": [
    {
     "name": "stderr",
     "output_type": "stream",
     "text": [
      "/usr/local/lib/python2.7/site-packages/ipykernel/__main__.py:6: FutureWarning: reshape is deprecated and will raise in a subsequent release. Please use .values.reshape(...) instead\n"
     ]
    },
    {
     "data": {
      "image/png": "[encoded data removed]",
      "text/plain": [
       "<matplotlib.figure.Figure at 0x11637c9d0>"
      ]
     },
     "metadata": {},
     "output_type": "display_data"
    }
   ],
   "source": [
    "y = data.ContractType\n",
    "\n",
    "X = data.SalaryNormalized\n",
    "\n",
    "#reshape it for python to recogize single feature \n",
    "X=X.reshape(-1,1)\n",
    "\n",
    "import matplotlib.pyplot as plt\n",
    "plt.plot(X, y, 'ro')\n",
    "#plt.axis([0, 6, 0, 20])\n",
    "plt.show()"
   ]
  },
  {
   "cell_type": "markdown",
   "metadata": {
    "deletable": true,
    "editable": true
   },
   "source": [
    "** From this we see, clearly this does not look like linear, and the linear model can be expected to perform poorly. **\n",
    "\n",
    "**So what else can we read from this plot? instead of trying to predict the salary using Contract Type, We may want to use Contract Type to predict salary, since we observe that label 0 (full_time job) tends to have higher salary than label 1 (part_time job).**\n",
    "\n"
   ]
  },
  {
   "cell_type": "code",
   "execution_count": 119,
   "metadata": {
    "collapsed": false,
    "deletable": true,
    "editable": true
   },
   "outputs": [
    {
     "name": "stderr",
     "output_type": "stream",
     "text": [
      "/usr/local/lib/python2.7/site-packages/ipykernel/__main__.py:10: FutureWarning: reshape is deprecated and will raise in a subsequent release. Please use .values.reshape(...) instead\n"
     ]
    },
    {
     "data": {
      "text/plain": [
       "-0.35245665357344413"
      ]
     },
     "execution_count": 119,
     "metadata": {},
     "output_type": "execute_result"
    }
   ],
   "source": [
    "from sklearn.cross_validation import cross_val_score\n",
    " \n",
    "\n",
    "\n",
    "model = linear_model.LinearRegression()\n",
    "\n",
    "scores = cross_val_score(model, X, y,scoring='r2')\n",
    "scores        \n",
    "scores.mean() \n",
    "\n"
   ]
  },
  {
   "cell_type": "markdown",
   "metadata": {
    "deletable": true,
    "editable": true
   },
   "source": [
    "** We just see it has negative score, which means very poor performance! (one can of course use other metrics,but r2 gives a very straightforward measure on how regression model performs (the larger the better, and negative means extremly poorly!)**\n",
    "\n"
   ]
  },
  {
   "cell_type": "markdown",
   "metadata": {
    "deletable": true,
    "editable": true
   },
   "source": [
    "## So how should we improve on this?--Logistic Regression may be one way\n"
   ]
  },
  {
   "cell_type": "code",
   "execution_count": 107,
   "metadata": {
    "collapsed": false
   },
   "outputs": [
    {
     "data": {
      "text/plain": [
       "0.83745803138720509"
      ]
     },
     "execution_count": 107,
     "metadata": {},
     "output_type": "execute_result"
    }
   ],
   "source": [
    "from sklearn.linear_model import LogisticRegression\n",
    "\n",
    "model = linear_model.LogisticRegression()\n",
    "\n",
    "scores = cross_val_score(model, X, y)\n",
    "scores.mean() \n",
    "\n",
    "\n"
   ]
  },
  {
   "cell_type": "markdown",
   "metadata": {
    "deletable": true,
    "editable": true
   },
   "source": [
    "** It seems by using Logistic Regression, we achieve an accuracy of 83.7%, not bad! Now you see how a different simple model can drastically improve the model quality. The key here, however, is by doing explorational analysis first, and then realize to use Logistic regression (since this is binary classification) and why linear regression is a terrible choice."
   ]
  },
  {
   "cell_type": "markdown",
   "metadata": {
    "deletable": true,
    "editable": true
   },
   "source": [
    "# What's there for you to explore?\n",
    "\n",
    "## Play around with the parameter tuning, like try use other metrics of scouring, differnt ways of cross-validation, and more importantly, use some other models (how about polynomials?) and compare their performance.\n",
    "\n",
    "## Try play with the model building, i.e. try exchange X and y, but use models like Ridge and lasso.\n",
    "\n",
    "## Try also split the dataset into a testing set and training set, and then compare the score obtained using cross-validation with the scoure obtained using new testing set.**"
   ]
  },
  {
   "cell_type": "markdown",
   "metadata": {
    "deletable": true,
    "editable": true
   },
   "source": [
    "# student sample solution 2"
   ]
  },
  {
   "cell_type": "code",
   "execution_count": 127,
   "metadata": {
    "collapsed": false,
    "scrolled": false
   },
   "outputs": [
    {
     "name": "stdout",
     "output_type": "stream",
     "text": [
      "-11822.1402313\n"
     ]
    },
    {
     "name": "stderr",
     "output_type": "stream",
     "text": [
      "/usr/local/lib/python2.7/site-packages/sklearn/metrics/scorer.py:90: DeprecationWarning: Scoring method mean_absolute_error was renamed to neg_mean_absolute_error in version 0.18 and will be removed in 0.20.\n",
      "  sample_weight=sample_weight)\n",
      "/usr/local/lib/python2.7/site-packages/sklearn/metrics/scorer.py:90: DeprecationWarning: Scoring method mean_absolute_error was renamed to neg_mean_absolute_error in version 0.18 and will be removed in 0.20.\n",
      "  sample_weight=sample_weight)\n",
      "/usr/local/lib/python2.7/site-packages/sklearn/metrics/scorer.py:90: DeprecationWarning: Scoring method mean_absolute_error was renamed to neg_mean_absolute_error in version 0.18 and will be removed in 0.20.\n",
      "  sample_weight=sample_weight)\n",
      "/usr/local/lib/python2.7/site-packages/sklearn/metrics/scorer.py:90: DeprecationWarning: Scoring method mean_absolute_error was renamed to neg_mean_absolute_error in version 0.18 and will be removed in 0.20.\n",
      "  sample_weight=sample_weight)\n",
      "/usr/local/lib/python2.7/site-packages/sklearn/metrics/scorer.py:90: DeprecationWarning: Scoring method mean_absolute_error was renamed to neg_mean_absolute_error in version 0.18 and will be removed in 0.20.\n",
      "  sample_weight=sample_weight)\n"
     ]
    }
   ],
   "source": [
    "\n",
    "import pandas as pd\n",
    "import numpy as np\n",
    "from sklearn.linear_model import LinearRegression\n",
    "from sklearn.cross_validation import cross_val_score\n",
    "\n",
    "# Load data\n",
    "data = pd.read_csv('/Users/xiaoyin/Downloads/GAdata.csv')\n",
    "\n",
    "\n",
    "# Setup data for prediction\n",
    "y = data.SalaryNormalized\n",
    "X = pd.get_dummies(data.ContractType)\n",
    "\n",
    "# Setup model\n",
    "model = LinearRegression()\n",
    "\n",
    "# Evaluate model\n",
    "scores = cross_val_score(model, X, y, cv=5, scoring='mean_absolute_error')\n",
    "print(scores.mean())"
   ]
  },
  {
   "cell_type": "markdown",
   "metadata": {
    "deletable": true,
    "editable": true
   },
   "source": [
    "## Code\n",
    "\n",
    "Code style, library usage, and possible bugs are commented within above python code, indicated by \"#===\"\n",
    "\n",
    "\n",
    "### Great job! It runs! You are awesome!\n",
    "\n",
    "### Also you put all the libararies used at the begining, nice habit! \n",
    "\n"
   ]
  },
  {
   "cell_type": "markdown",
   "metadata": {
    "deletable": true,
    "editable": true
   },
   "source": [
    "## Methodology\n",
    "\n",
    "**data setup, modeling methodology, and model evaluation.\n",
    "Conceptual Understanding**\n",
    "\n",
    "This code generally looks good. However, it is flawed on the modeling step, due to the lack of enough understanding of the dataset and the goal of this study, and more specificly due to the missing of two important steps in data science--data cleaning and explorational analysis. Below I will elaborate on this.\n",
    "\n",
    "A lot of times, we have to first clean the dataset for us to use. For example, we can see immediately that there are a lot missing values for the ContractType column. How do we deal with that? I will show shortly how to deal with this case below.\n",
    "\n",
    "After we clean data, it is almost always necessary to do a brief explorational analysis, instead of jumping right onto model building process. The explorational analysis can give us a rough idea on what the data you are trying to modeling look like. And the insight one obtains from this process, has a direct impact on the quality of model one builds. For our specific case, we are trying to identify the relation between salary and job contract type. How about we first plot them and see what the relationship roughly looks like?\n",
    "\n",
    "I will go over the detailed process below. \n",
    "\n",
    "\n"
   ]
  },
  {
   "cell_type": "markdown",
   "metadata": {
    "deletable": true,
    "editable": true
   },
   "source": []
  },
  {
   "cell_type": "markdown",
   "metadata": {
    "deletable": true,
    "editable": true
   },
   "source": [
    "** First, we need first load the data, use \"data=...\"(instead of \"d\")**\n",
    "\n",
    "\n"
   ]
  },
  {
   "cell_type": "code",
   "execution_count": 111,
   "metadata": {
    "collapsed": false,
    "deletable": true,
    "editable": true,
    "scrolled": true
   },
   "outputs": [
    {
     "data": {
      "text/html": [
       "<div>\n",
       "<table border=\"1\" class=\"dataframe\">\n",
       "  <thead>\n",
       "    <tr style=\"text-align: right;\">\n",
       "      <th></th>\n",
       "      <th>Id</th>\n",
       "      <th>Title</th>\n",
       "      <th>FullDescription</th>\n",
       "      <th>LocationRaw</th>\n",
       "      <th>LocationNormalized</th>\n",
       "      <th>ContractType</th>\n",
       "      <th>ContractTime</th>\n",
       "      <th>Company</th>\n",
       "      <th>Category</th>\n",
       "      <th>SalaryRaw</th>\n",
       "      <th>SalaryNormalized</th>\n",
       "      <th>SourceName</th>\n",
       "    </tr>\n",
       "  </thead>\n",
       "  <tbody>\n",
       "    <tr>\n",
       "      <th>0</th>\n",
       "      <td>12612628</td>\n",
       "      <td>Engineering Systems Analyst</td>\n",
       "      <td>Engineering Systems Analyst Dorking Surrey Sal...</td>\n",
       "      <td>Dorking, Surrey, Surrey</td>\n",
       "      <td>Dorking</td>\n",
       "      <td>NaN</td>\n",
       "      <td>permanent</td>\n",
       "      <td>Gregory Martin International</td>\n",
       "      <td>Engineering Jobs</td>\n",
       "      <td>20000 - 30000/annum 20-30K</td>\n",
       "      <td>25000</td>\n",
       "      <td>cv-library.co.uk</td>\n",
       "    </tr>\n",
       "    <tr>\n",
       "      <th>1</th>\n",
       "      <td>12612830</td>\n",
       "      <td>Stress Engineer Glasgow</td>\n",
       "      <td>Stress Engineer Glasgow Salary **** to **** We...</td>\n",
       "      <td>Glasgow, Scotland, Scotland</td>\n",
       "      <td>Glasgow</td>\n",
       "      <td>NaN</td>\n",
       "      <td>permanent</td>\n",
       "      <td>Gregory Martin International</td>\n",
       "      <td>Engineering Jobs</td>\n",
       "      <td>25000 - 35000/annum 25-35K</td>\n",
       "      <td>30000</td>\n",
       "      <td>cv-library.co.uk</td>\n",
       "    </tr>\n",
       "    <tr>\n",
       "      <th>2</th>\n",
       "      <td>12612844</td>\n",
       "      <td>Modelling and simulation analyst</td>\n",
       "      <td>Mathematical Modeller / Simulation Analyst / O...</td>\n",
       "      <td>Hampshire, South East, South East</td>\n",
       "      <td>Hampshire</td>\n",
       "      <td>NaN</td>\n",
       "      <td>permanent</td>\n",
       "      <td>Gregory Martin International</td>\n",
       "      <td>Engineering Jobs</td>\n",
       "      <td>20000 - 40000/annum 20-40K</td>\n",
       "      <td>30000</td>\n",
       "      <td>cv-library.co.uk</td>\n",
       "    </tr>\n",
       "    <tr>\n",
       "      <th>3</th>\n",
       "      <td>12613049</td>\n",
       "      <td>Engineering Systems Analyst / Mathematical Mod...</td>\n",
       "      <td>Engineering Systems Analyst / Mathematical Mod...</td>\n",
       "      <td>Surrey, South East, South East</td>\n",
       "      <td>Surrey</td>\n",
       "      <td>NaN</td>\n",
       "      <td>permanent</td>\n",
       "      <td>Gregory Martin International</td>\n",
       "      <td>Engineering Jobs</td>\n",
       "      <td>25000 - 30000/annum 25K-30K negotiable</td>\n",
       "      <td>27500</td>\n",
       "      <td>cv-library.co.uk</td>\n",
       "    </tr>\n",
       "    <tr>\n",
       "      <th>4</th>\n",
       "      <td>12613647</td>\n",
       "      <td>Pioneer, Miser Engineering Systems Analyst</td>\n",
       "      <td>Pioneer, Miser  Engineering Systems Analyst Do...</td>\n",
       "      <td>Surrey, South East, South East</td>\n",
       "      <td>Surrey</td>\n",
       "      <td>NaN</td>\n",
       "      <td>permanent</td>\n",
       "      <td>Gregory Martin International</td>\n",
       "      <td>Engineering Jobs</td>\n",
       "      <td>20000 - 30000/annum 20-30K</td>\n",
       "      <td>25000</td>\n",
       "      <td>cv-library.co.uk</td>\n",
       "    </tr>\n",
       "  </tbody>\n",
       "</table>\n",
       "</div>"
      ],
      "text/plain": [
       "         Id                                              Title  \\\n",
       "0  12612628                        Engineering Systems Analyst   \n",
       "1  12612830                            Stress Engineer Glasgow   \n",
       "2  12612844                   Modelling and simulation analyst   \n",
       "3  12613049  Engineering Systems Analyst / Mathematical Mod...   \n",
       "4  12613647         Pioneer, Miser Engineering Systems Analyst   \n",
       "\n",
       "                                     FullDescription  \\\n",
       "0  Engineering Systems Analyst Dorking Surrey Sal...   \n",
       "1  Stress Engineer Glasgow Salary **** to **** We...   \n",
       "2  Mathematical Modeller / Simulation Analyst / O...   \n",
       "3  Engineering Systems Analyst / Mathematical Mod...   \n",
       "4  Pioneer, Miser  Engineering Systems Analyst Do...   \n",
       "\n",
       "                         LocationRaw LocationNormalized ContractType  \\\n",
       "0            Dorking, Surrey, Surrey            Dorking          NaN   \n",
       "1        Glasgow, Scotland, Scotland            Glasgow          NaN   \n",
       "2  Hampshire, South East, South East          Hampshire          NaN   \n",
       "3     Surrey, South East, South East             Surrey          NaN   \n",
       "4     Surrey, South East, South East             Surrey          NaN   \n",
       "\n",
       "  ContractTime                       Company          Category  \\\n",
       "0    permanent  Gregory Martin International  Engineering Jobs   \n",
       "1    permanent  Gregory Martin International  Engineering Jobs   \n",
       "2    permanent  Gregory Martin International  Engineering Jobs   \n",
       "3    permanent  Gregory Martin International  Engineering Jobs   \n",
       "4    permanent  Gregory Martin International  Engineering Jobs   \n",
       "\n",
       "                                SalaryRaw  SalaryNormalized        SourceName  \n",
       "0              20000 - 30000/annum 20-30K             25000  cv-library.co.uk  \n",
       "1              25000 - 35000/annum 25-35K             30000  cv-library.co.uk  \n",
       "2              20000 - 40000/annum 20-40K             30000  cv-library.co.uk  \n",
       "3  25000 - 30000/annum 25K-30K negotiable             27500  cv-library.co.uk  \n",
       "4              20000 - 30000/annum 20-30K             25000  cv-library.co.uk  "
      ]
     },
     "execution_count": 111,
     "metadata": {},
     "output_type": "execute_result"
    }
   ],
   "source": [
    "data = pd.read_csv('/Users/xiaoyin/Downloads/GAdata.csv')   #d=data?\n",
    "data.head()"
   ]
  },
  {
   "cell_type": "markdown",
   "metadata": {
    "deletable": true,
    "editable": true
   },
   "source": [
    "** We see there are quite some missing values (NaN). Lets us check how many are there and whats the fraction**\n",
    "\n"
   ]
  },
  {
   "cell_type": "code",
   "execution_count": 112,
   "metadata": {
    "collapsed": false,
    "deletable": true,
    "editable": true,
    "scrolled": true
   },
   "outputs": [
    {
     "data": {
      "text/plain": [
       "Id                       0\n",
       "Title                    1\n",
       "FullDescription          0\n",
       "LocationRaw              0\n",
       "LocationNormalized       0\n",
       "ContractType          6444\n",
       "ContractTime          5263\n",
       "Company               4049\n",
       "Category                 0\n",
       "SalaryRaw                0\n",
       "SalaryNormalized         0\n",
       "SourceName               0\n",
       "dtype: int64"
      ]
     },
     "execution_count": 112,
     "metadata": {},
     "output_type": "execute_result"
    }
   ],
   "source": [
    "data.isnull().sum()\n"
   ]
  },
  {
   "cell_type": "code",
   "execution_count": 113,
   "metadata": {
    "collapsed": false,
    "deletable": true,
    "editable": true,
    "scrolled": true
   },
   "outputs": [
    {
     "data": {
      "text/plain": [
       "(10000, 12)"
      ]
     },
     "execution_count": 113,
     "metadata": {},
     "output_type": "execute_result"
    }
   ],
   "source": [
    "data.shape"
   ]
  },
  {
   "cell_type": "markdown",
   "metadata": {
    "deletable": true,
    "editable": true
   },
   "source": [
    "** We see there are about 64% data on ContractType are missing! Since this is a feature we care a lot in our later model section, we need carefully handle this. One simple approach is just ignore these NaN records. This can be done as follows:**\n",
    "\n"
   ]
  },
  {
   "cell_type": "code",
   "execution_count": 114,
   "metadata": {
    "collapsed": false,
    "deletable": true,
    "editable": true,
    "scrolled": true
   },
   "outputs": [
    {
     "data": {
      "text/html": [
       "<div>\n",
       "<table border=\"1\" class=\"dataframe\">\n",
       "  <thead>\n",
       "    <tr style=\"text-align: right;\">\n",
       "      <th></th>\n",
       "      <th>Id</th>\n",
       "      <th>Title</th>\n",
       "      <th>FullDescription</th>\n",
       "      <th>LocationRaw</th>\n",
       "      <th>LocationNormalized</th>\n",
       "      <th>ContractType</th>\n",
       "      <th>ContractTime</th>\n",
       "      <th>Company</th>\n",
       "      <th>Category</th>\n",
       "      <th>SalaryRaw</th>\n",
       "      <th>SalaryNormalized</th>\n",
       "      <th>SourceName</th>\n",
       "    </tr>\n",
       "  </thead>\n",
       "  <tbody>\n",
       "    <tr>\n",
       "      <th>65</th>\n",
       "      <td>31794403</td>\n",
       "      <td>Senior **** IT Recruitment Consulltant</td>\n",
       "      <td>Inspire is a leading IT services company speci...</td>\n",
       "      <td>Lingfield, Surrey ,</td>\n",
       "      <td>Lingfield</td>\n",
       "      <td>full_time</td>\n",
       "      <td>NaN</td>\n",
       "      <td>Inspire Corporation</td>\n",
       "      <td>Other/General Jobs</td>\n",
       "      <td>20 - 25k Basic,  70 - 75K OTE+++</td>\n",
       "      <td>22500</td>\n",
       "      <td>zartis.com</td>\n",
       "    </tr>\n",
       "    <tr>\n",
       "      <th>154</th>\n",
       "      <td>44156175</td>\n",
       "      <td>Business Development/ Account Management/ IT s...</td>\n",
       "      <td>We are searching for a New Business Account Ma...</td>\n",
       "      <td>Burton On Trent ,</td>\n",
       "      <td>Burton-On-Trent</td>\n",
       "      <td>full_time</td>\n",
       "      <td>NaN</td>\n",
       "      <td>Blues Point Ltd</td>\n",
       "      <td>Other/General Jobs</td>\n",
       "      <td>21,000 + Uncapped Commission + Pool Cars</td>\n",
       "      <td>21000</td>\n",
       "      <td>zartis.com</td>\n",
       "    </tr>\n",
       "    <tr>\n",
       "      <th>177</th>\n",
       "      <td>46206762</td>\n",
       "      <td>Business Development Manager UK</td>\n",
       "      <td>Purpose of the Job: Reporting to the Sales Dir...</td>\n",
       "      <td>South East England ,</td>\n",
       "      <td>South East England</td>\n",
       "      <td>full_time</td>\n",
       "      <td>NaN</td>\n",
       "      <td>SourceDogg</td>\n",
       "      <td>Other/General Jobs</td>\n",
       "      <td>40,000 - 50,000 plus package</td>\n",
       "      <td>45000</td>\n",
       "      <td>zartis.com</td>\n",
       "    </tr>\n",
       "    <tr>\n",
       "      <th>178</th>\n",
       "      <td>46206763</td>\n",
       "      <td>National Key Account Manager UK</td>\n",
       "      <td>Purpose of the Job: As a Key Account Manager y...</td>\n",
       "      <td>South East England ,</td>\n",
       "      <td>South East England</td>\n",
       "      <td>full_time</td>\n",
       "      <td>NaN</td>\n",
       "      <td>SourceDogg</td>\n",
       "      <td>Other/General Jobs</td>\n",
       "      <td>40,000 - 50,000 plus package</td>\n",
       "      <td>45000</td>\n",
       "      <td>zartis.com</td>\n",
       "    </tr>\n",
       "    <tr>\n",
       "      <th>182</th>\n",
       "      <td>46626508</td>\n",
       "      <td>Support Worker Job Chepstow</td>\n",
       "      <td>Support Worker Job Chepstow We are a leading p...</td>\n",
       "      <td>Chepstow, Gwent</td>\n",
       "      <td>UK</td>\n",
       "      <td>full_time</td>\n",
       "      <td>NaN</td>\n",
       "      <td>NaN</td>\n",
       "      <td>Healthcare &amp; Nursing Jobs</td>\n",
       "      <td>6.43 per hour</td>\n",
       "      <td>12345</td>\n",
       "      <td>careworx.co.uk</td>\n",
       "    </tr>\n",
       "  </tbody>\n",
       "</table>\n",
       "</div>"
      ],
      "text/plain": [
       "           Id                                              Title  \\\n",
       "65   31794403             Senior **** IT Recruitment Consulltant   \n",
       "154  44156175  Business Development/ Account Management/ IT s...   \n",
       "177  46206762                    Business Development Manager UK   \n",
       "178  46206763                    National Key Account Manager UK   \n",
       "182  46626508                        Support Worker Job Chepstow   \n",
       "\n",
       "                                       FullDescription           LocationRaw  \\\n",
       "65   Inspire is a leading IT services company speci...   Lingfield, Surrey ,   \n",
       "154  We are searching for a New Business Account Ma...     Burton On Trent ,   \n",
       "177  Purpose of the Job: Reporting to the Sales Dir...  South East England ,   \n",
       "178  Purpose of the Job: As a Key Account Manager y...  South East England ,   \n",
       "182  Support Worker Job Chepstow We are a leading p...       Chepstow, Gwent   \n",
       "\n",
       "     LocationNormalized ContractType ContractTime              Company  \\\n",
       "65            Lingfield    full_time          NaN  Inspire Corporation   \n",
       "154     Burton-On-Trent    full_time          NaN      Blues Point Ltd   \n",
       "177  South East England    full_time          NaN           SourceDogg   \n",
       "178  South East England    full_time          NaN           SourceDogg   \n",
       "182                  UK    full_time          NaN                  NaN   \n",
       "\n",
       "                      Category                                 SalaryRaw  \\\n",
       "65          Other/General Jobs          20 - 25k Basic,  70 - 75K OTE+++   \n",
       "154         Other/General Jobs  21,000 + Uncapped Commission + Pool Cars   \n",
       "177         Other/General Jobs              40,000 - 50,000 plus package   \n",
       "178         Other/General Jobs              40,000 - 50,000 plus package   \n",
       "182  Healthcare & Nursing Jobs                             6.43 per hour   \n",
       "\n",
       "     SalaryNormalized      SourceName  \n",
       "65              22500      zartis.com  \n",
       "154             21000      zartis.com  \n",
       "177             45000      zartis.com  \n",
       "178             45000      zartis.com  \n",
       "182             12345  careworx.co.uk  "
      ]
     },
     "execution_count": 114,
     "metadata": {},
     "output_type": "execute_result"
    }
   ],
   "source": [
    "data=data.dropna(subset=['ContractType'])\n",
    "data.head()"
   ]
  },
  {
   "cell_type": "markdown",
   "metadata": {
    "deletable": true,
    "editable": true
   },
   "source": [
    "** Clearly, we have kept only the records whose ContractType is not NaN, and the size of dataset becomes 3556*12**\n",
    "\n"
   ]
  },
  {
   "cell_type": "code",
   "execution_count": 115,
   "metadata": {
    "collapsed": false,
    "deletable": true,
    "editable": true
   },
   "outputs": [
    {
     "data": {
      "text/plain": [
       "(3556, 12)"
      ]
     },
     "execution_count": 115,
     "metadata": {},
     "output_type": "execute_result"
    }
   ],
   "source": [
    "data.shape"
   ]
  },
  {
   "cell_type": "markdown",
   "metadata": {
    "deletable": true,
    "editable": true
   },
   "source": [
    "** One more thing we need pay attention to is: ContractType is a categorial variable. It can most conveniently dealt with by encoding it being a binary variable (0,1) **\n",
    "\n"
   ]
  },
  {
   "cell_type": "code",
   "execution_count": 116,
   "metadata": {
    "collapsed": false,
    "deletable": true,
    "editable": true,
    "scrolled": true
   },
   "outputs": [
    {
     "data": {
      "text/html": [
       "<div>\n",
       "<table border=\"1\" class=\"dataframe\">\n",
       "  <thead>\n",
       "    <tr style=\"text-align: right;\">\n",
       "      <th></th>\n",
       "      <th>Id</th>\n",
       "      <th>Title</th>\n",
       "      <th>FullDescription</th>\n",
       "      <th>LocationRaw</th>\n",
       "      <th>LocationNormalized</th>\n",
       "      <th>ContractType</th>\n",
       "      <th>ContractTime</th>\n",
       "      <th>Company</th>\n",
       "      <th>Category</th>\n",
       "      <th>SalaryRaw</th>\n",
       "      <th>SalaryNormalized</th>\n",
       "      <th>SourceName</th>\n",
       "    </tr>\n",
       "  </thead>\n",
       "  <tbody>\n",
       "    <tr>\n",
       "      <th>65</th>\n",
       "      <td>31794403</td>\n",
       "      <td>Senior **** IT Recruitment Consulltant</td>\n",
       "      <td>Inspire is a leading IT services company speci...</td>\n",
       "      <td>Lingfield, Surrey ,</td>\n",
       "      <td>Lingfield</td>\n",
       "      <td>0</td>\n",
       "      <td>NaN</td>\n",
       "      <td>Inspire Corporation</td>\n",
       "      <td>Other/General Jobs</td>\n",
       "      <td>20 - 25k Basic,  70 - 75K OTE+++</td>\n",
       "      <td>22500</td>\n",
       "      <td>zartis.com</td>\n",
       "    </tr>\n",
       "    <tr>\n",
       "      <th>154</th>\n",
       "      <td>44156175</td>\n",
       "      <td>Business Development/ Account Management/ IT s...</td>\n",
       "      <td>We are searching for a New Business Account Ma...</td>\n",
       "      <td>Burton On Trent ,</td>\n",
       "      <td>Burton-On-Trent</td>\n",
       "      <td>0</td>\n",
       "      <td>NaN</td>\n",
       "      <td>Blues Point Ltd</td>\n",
       "      <td>Other/General Jobs</td>\n",
       "      <td>21,000 + Uncapped Commission + Pool Cars</td>\n",
       "      <td>21000</td>\n",
       "      <td>zartis.com</td>\n",
       "    </tr>\n",
       "    <tr>\n",
       "      <th>177</th>\n",
       "      <td>46206762</td>\n",
       "      <td>Business Development Manager UK</td>\n",
       "      <td>Purpose of the Job: Reporting to the Sales Dir...</td>\n",
       "      <td>South East England ,</td>\n",
       "      <td>South East England</td>\n",
       "      <td>0</td>\n",
       "      <td>NaN</td>\n",
       "      <td>SourceDogg</td>\n",
       "      <td>Other/General Jobs</td>\n",
       "      <td>40,000 - 50,000 plus package</td>\n",
       "      <td>45000</td>\n",
       "      <td>zartis.com</td>\n",
       "    </tr>\n",
       "    <tr>\n",
       "      <th>178</th>\n",
       "      <td>46206763</td>\n",
       "      <td>National Key Account Manager UK</td>\n",
       "      <td>Purpose of the Job: As a Key Account Manager y...</td>\n",
       "      <td>South East England ,</td>\n",
       "      <td>South East England</td>\n",
       "      <td>0</td>\n",
       "      <td>NaN</td>\n",
       "      <td>SourceDogg</td>\n",
       "      <td>Other/General Jobs</td>\n",
       "      <td>40,000 - 50,000 plus package</td>\n",
       "      <td>45000</td>\n",
       "      <td>zartis.com</td>\n",
       "    </tr>\n",
       "    <tr>\n",
       "      <th>182</th>\n",
       "      <td>46626508</td>\n",
       "      <td>Support Worker Job Chepstow</td>\n",
       "      <td>Support Worker Job Chepstow We are a leading p...</td>\n",
       "      <td>Chepstow, Gwent</td>\n",
       "      <td>UK</td>\n",
       "      <td>0</td>\n",
       "      <td>NaN</td>\n",
       "      <td>NaN</td>\n",
       "      <td>Healthcare &amp; Nursing Jobs</td>\n",
       "      <td>6.43 per hour</td>\n",
       "      <td>12345</td>\n",
       "      <td>careworx.co.uk</td>\n",
       "    </tr>\n",
       "  </tbody>\n",
       "</table>\n",
       "</div>"
      ],
      "text/plain": [
       "           Id                                              Title  \\\n",
       "65   31794403             Senior **** IT Recruitment Consulltant   \n",
       "154  44156175  Business Development/ Account Management/ IT s...   \n",
       "177  46206762                    Business Development Manager UK   \n",
       "178  46206763                    National Key Account Manager UK   \n",
       "182  46626508                        Support Worker Job Chepstow   \n",
       "\n",
       "                                       FullDescription           LocationRaw  \\\n",
       "65   Inspire is a leading IT services company speci...   Lingfield, Surrey ,   \n",
       "154  We are searching for a New Business Account Ma...     Burton On Trent ,   \n",
       "177  Purpose of the Job: Reporting to the Sales Dir...  South East England ,   \n",
       "178  Purpose of the Job: As a Key Account Manager y...  South East England ,   \n",
       "182  Support Worker Job Chepstow We are a leading p...       Chepstow, Gwent   \n",
       "\n",
       "     LocationNormalized  ContractType ContractTime              Company  \\\n",
       "65            Lingfield             0          NaN  Inspire Corporation   \n",
       "154     Burton-On-Trent             0          NaN      Blues Point Ltd   \n",
       "177  South East England             0          NaN           SourceDogg   \n",
       "178  South East England             0          NaN           SourceDogg   \n",
       "182                  UK             0          NaN                  NaN   \n",
       "\n",
       "                      Category                                 SalaryRaw  \\\n",
       "65          Other/General Jobs          20 - 25k Basic,  70 - 75K OTE+++   \n",
       "154         Other/General Jobs  21,000 + Uncapped Commission + Pool Cars   \n",
       "177         Other/General Jobs              40,000 - 50,000 plus package   \n",
       "178         Other/General Jobs              40,000 - 50,000 plus package   \n",
       "182  Healthcare & Nursing Jobs                             6.43 per hour   \n",
       "\n",
       "     SalaryNormalized      SourceName  \n",
       "65              22500      zartis.com  \n",
       "154             21000      zartis.com  \n",
       "177             45000      zartis.com  \n",
       "178             45000      zartis.com  \n",
       "182             12345  careworx.co.uk  "
      ]
     },
     "execution_count": 116,
     "metadata": {},
     "output_type": "execute_result"
    }
   ],
   "source": [
    "\n",
    "from sklearn import preprocessing\n",
    "from sklearn.preprocessing import LabelEncoder\n",
    "labelencoder=LabelEncoder()\n",
    "data['ContractType'] = labelencoder.fit_transform(data['ContractType'])\n",
    "data.head()"
   ]
  },
  {
   "cell_type": "markdown",
   "metadata": {
    "deletable": true,
    "editable": true
   },
   "source": [
    "** And we see, the full_time is encoded as 0, and part_time as 1 **\n",
    "\n"
   ]
  },
  {
   "cell_type": "markdown",
   "metadata": {
    "deletable": true,
    "editable": true
   },
   "source": [
    "## Explorational analysis\n"
   ]
  },
  {
   "cell_type": "code",
   "execution_count": 140,
   "metadata": {
    "collapsed": false,
    "deletable": true,
    "editable": true,
    "scrolled": true
   },
   "outputs": [
    {
     "name": "stderr",
     "output_type": "stream",
     "text": [
      "/usr/local/lib/python2.7/site-packages/ipykernel/__main__.py:6: FutureWarning: reshape is deprecated and will raise in a subsequent release. Please use .values.reshape(...) instead\n"
     ]
    },
    {
     "data": {
      "image/png": "[encoded data removed]",
      "text/plain": [
       "<matplotlib.figure.Figure at 0x11691c110>"
      ]
     },
     "metadata": {},
     "output_type": "display_data"
    }
   ],
   "source": [
    "y = data.ContractType\n",
    "\n",
    "X = data.SalaryNormalized\n",
    "\n",
    "#reshape it for python to recogize single feature \n",
    "X=X.reshape(-1,1)\n",
    "\n",
    "import matplotlib.pyplot as plt\n",
    "plt.plot(X, y, 'ro')\n",
    "#plt.axis([0, 6, 0, 20])\n",
    "plt.show()"
   ]
  },
  {
   "cell_type": "markdown",
   "metadata": {
    "deletable": true,
    "editable": true
   },
   "source": [
    "** From this we see, clearly this does not look like linear, and the linear model can be expected to perform poorly **\n",
    "\n"
   ]
  },
  {
   "cell_type": "code",
   "execution_count": 141,
   "metadata": {
    "collapsed": false,
    "deletable": true,
    "editable": true
   },
   "outputs": [
    {
     "data": {
      "text/plain": [
       "-0.35245665357344413"
      ]
     },
     "execution_count": 141,
     "metadata": {},
     "output_type": "execute_result"
    }
   ],
   "source": [
    "from sklearn.cross_validation import cross_val_score\n",
    " \n",
    "model = linear_model.LinearRegression()\n",
    "\n",
    "scores = cross_val_score(model, X, y,scoring='r2')\n",
    "scores        \n",
    "scores.mean() \n",
    "\n"
   ]
  },
  {
   "cell_type": "markdown",
   "metadata": {
    "deletable": true,
    "editable": true
   },
   "source": [
    "** We just see it has negative score, which means very poor performance! (one can of course use other metrics,but r2 gives a very straightforward measure on how regression model performs (the larger the better, and negative means extremly poorly!)**\n",
    "\n"
   ]
  },
  {
   "cell_type": "markdown",
   "metadata": {
    "deletable": true,
    "editable": true
   },
   "source": [
    "## So how should we improve on this?--Logistic Regression may be one way\n"
   ]
  },
  {
   "cell_type": "code",
   "execution_count": 107,
   "metadata": {
    "collapsed": false,
    "deletable": true,
    "editable": true
   },
   "outputs": [
    {
     "data": {
      "text/plain": [
       "0.83745803138720509"
      ]
     },
     "execution_count": 107,
     "metadata": {},
     "output_type": "execute_result"
    }
   ],
   "source": [
    "from sklearn.linear_model import LogisticRegression\n",
    "\n",
    "model = linear_model.LogisticRegression()\n",
    "\n",
    "scores = cross_val_score(model, X, y)\n",
    "scores.mean() \n",
    "\n",
    "\n"
   ]
  },
  {
   "cell_type": "markdown",
   "metadata": {
    "deletable": true,
    "editable": true
   },
   "source": [
    "** It seems by using Logistic Regression, we achieve an accuracy of 83.7%, not bad! Now you see how a different simple model can drastically improve the model quality. The key here, however, is by doing explorational analysis first, and then realize to use Logistic regression (since this is binary classification) and why linear regression is a terrible choice.**"
   ]
  },
  {
   "cell_type": "markdown",
   "metadata": {
    "deletable": true,
    "editable": true
   },
   "source": [
    "# What's there for you to explore?\n",
    "\n",
    "** Play around with the parameter tuning, like try use other metrics of scouring, differnt ways of cross-validation, and more importantly, use some other models (how about polynomials?) and compare their performance.**\n",
    "\n",
    "** Try play with the model building, i.e. try exchange X and y, but use models like Ridge and lasso.**\n",
    "\n",
    "\n",
    "**Try also split the dataset into a testing set and training set, and then compare the score obtained using cross-validation with the scoure obtained using new testing set.**\n",
    "\n"
   ]
  }
 ],
 "metadata": {
  "kernelspec": {
   "display_name": "Python 2",
   "language": "python",
   "name": "python2"
  },
  "language_info": {
   "codemirror_mode": {
    "name": "ipython",
    "version": 2
   },
   "file_extension": ".py",
   "mimetype": "text/x-python",
   "name": "python",
   "nbconvert_exporter": "python",
   "pygments_lexer": "ipython2",
   "version": "2.7.13"
  }
 },
 "nbformat": 4,
 "nbformat_minor": 2
}
